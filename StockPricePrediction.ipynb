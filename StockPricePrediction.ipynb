{
  "nbformat": 4,
  "nbformat_minor": 0,
  "metadata": {
    "colab": {
      "name": "StockPricePrediction.ipynb",
      "provenance": [],
      "mount_file_id": "1jXFzltf4rTpnZ9YmCwGkLiWnbzDyKWwG",
      "authorship_tag": "ABX9TyM3puSaAWPUnRCA2AC3BMpL",
      "include_colab_link": true
    },
    "kernelspec": {
      "name": "python3",
      "display_name": "Python 3"
    }
  },
  "cells": [
    {
      "cell_type": "markdown",
      "metadata": {
        "id": "view-in-github",
        "colab_type": "text"
      },
      "source": [
        "<a href=\"https://colab.research.google.com/github/kumarnrj/StockPricePrediction/blob/master/StockPricePrediction.ipynb\" target=\"_parent\"><img src=\"https://colab.research.google.com/assets/colab-badge.svg\" alt=\"Open In Colab\"/></a>"
      ]
    },
    {
      "cell_type": "markdown",
      "metadata": {
        "id": "b72dOkyD6VEE",
        "colab_type": "text"
      },
      "source": [
        "**Stock Price Prediction using (LSTM)**\n",
        " Long Short Term Memory networks – usually just called “LSTMs” – are a special kind of RNN, capable of learning long-term dependencies. They were introduced by Hochreiter & Schmidhuber (1997), and were refined and popularized by many people in following work.1 They work tremendously well on a large variety of problems, and are now widely used.\n",
        "\n",
        "LSTMs are explicitly designed to avoid the long-term dependency problem. Remembering information for long periods of time is practically their default behavior, not something they struggle to learn!\n",
        "\n",
        "In this model i have also used **Linear Regression** and **Random Forest** algorithms to check which one  will provide the better result."
      ]
    },
    {
      "cell_type": "code",
      "metadata": {
        "id": "Fj3r8DTh-ssC",
        "colab_type": "code",
        "colab": {}
      },
      "source": [
        ""
      ],
      "execution_count": null,
      "outputs": []
    },
    {
      "cell_type": "code",
      "metadata": {
        "id": "ptOUYllDUk4m",
        "colab_type": "code",
        "colab": {}
      },
      "source": [
        "#importing the important libraries \n",
        "import math\n",
        "import numpy as np\n",
        "import pandas as pd\n",
        "from sklearn.preprocessing import MinMaxScaler\n",
        "from keras.models import Sequential \n",
        "from keras.layers import Dense, LSTM\n",
        "import matplotlib.pyplot as plt\n",
        "plt.style.use('fivethirtyeight')"
      ],
      "execution_count": 3,
      "outputs": []
    },
    {
      "cell_type": "markdown",
      "metadata": {
        "id": "TEelSKNQ6UJ8",
        "colab_type": "text"
      },
      "source": [
        ""
      ]
    },
    {
      "cell_type": "code",
      "metadata": {
        "id": "pImXT4jyUqJg",
        "colab_type": "code",
        "colab": {}
      },
      "source": [
        "#importing the datasets\n",
        "dataset = pd.read_csv('/content/drive/My Drive/Colab Notebooks/prices.csv',index_col=\"date\",parse_dates=True)"
      ],
      "execution_count": 15,
      "outputs": []
    },
    {
      "cell_type": "markdown",
      "metadata": {
        "id": "JJOEFrT06S66",
        "colab_type": "text"
      },
      "source": [
        "I have reduced the size of the data set due the processing speed of my sysetem."
      ]
    },
    {
      "cell_type": "code",
      "metadata": {
        "id": "3uWRkXBvUzsP",
        "colab_type": "code",
        "colab": {}
      },
      "source": [
        " length = math.ceil(len(dataset)* 0.15)"
      ],
      "execution_count": 16,
      "outputs": []
    },
    {
      "cell_type": "code",
      "metadata": {
        "id": "XqGz_vy9Xv2_",
        "colab_type": "code",
        "colab": {
          "base_uri": "https://localhost:8080/",
          "height": 34
        },
        "outputId": "19e0ab19-5e76-4b42-d1b0-a88ca9e3eef6"
      },
      "source": [
        "length"
      ],
      "execution_count": 17,
      "outputs": [
        {
          "output_type": "execute_result",
          "data": {
            "text/plain": [
              "127690"
            ]
          },
          "metadata": {
            "tags": []
          },
          "execution_count": 17
        }
      ]
    },
    {
      "cell_type": "code",
      "metadata": {
        "id": "mwMCtOn3XyNk",
        "colab_type": "code",
        "colab": {}
      },
      "source": [
        "dataset = dataset[0:length]"
      ],
      "execution_count": 18,
      "outputs": []
    },
    {
      "cell_type": "code",
      "metadata": {
        "id": "MfpKLg-BYB04",
        "colab_type": "code",
        "colab": {
          "base_uri": "https://localhost:8080/",
          "height": 235
        },
        "outputId": "49ea9217-632d-4f8b-be0d-2c90dfb5aea8"
      },
      "source": [
        "#Printing the intial lines of the dataset \n",
        "dataset.head()\n"
      ],
      "execution_count": 19,
      "outputs": [
        {
          "output_type": "execute_result",
          "data": {
            "text/html": [
              "<div>\n",
              "<style scoped>\n",
              "    .dataframe tbody tr th:only-of-type {\n",
              "        vertical-align: middle;\n",
              "    }\n",
              "\n",
              "    .dataframe tbody tr th {\n",
              "        vertical-align: top;\n",
              "    }\n",
              "\n",
              "    .dataframe thead th {\n",
              "        text-align: right;\n",
              "    }\n",
              "</style>\n",
              "<table border=\"1\" class=\"dataframe\">\n",
              "  <thead>\n",
              "    <tr style=\"text-align: right;\">\n",
              "      <th></th>\n",
              "      <th>symbol</th>\n",
              "      <th>open</th>\n",
              "      <th>close</th>\n",
              "      <th>low</th>\n",
              "      <th>high</th>\n",
              "      <th>volume</th>\n",
              "    </tr>\n",
              "    <tr>\n",
              "      <th>date</th>\n",
              "      <th></th>\n",
              "      <th></th>\n",
              "      <th></th>\n",
              "      <th></th>\n",
              "      <th></th>\n",
              "      <th></th>\n",
              "    </tr>\n",
              "  </thead>\n",
              "  <tbody>\n",
              "    <tr>\n",
              "      <th>2016-01-05</th>\n",
              "      <td>WLTW</td>\n",
              "      <td>123.430000</td>\n",
              "      <td>125.839996</td>\n",
              "      <td>122.309998</td>\n",
              "      <td>126.250000</td>\n",
              "      <td>2163600.0</td>\n",
              "    </tr>\n",
              "    <tr>\n",
              "      <th>2016-01-06</th>\n",
              "      <td>WLTW</td>\n",
              "      <td>125.239998</td>\n",
              "      <td>119.980003</td>\n",
              "      <td>119.940002</td>\n",
              "      <td>125.540001</td>\n",
              "      <td>2386400.0</td>\n",
              "    </tr>\n",
              "    <tr>\n",
              "      <th>2016-01-07</th>\n",
              "      <td>WLTW</td>\n",
              "      <td>116.379997</td>\n",
              "      <td>114.949997</td>\n",
              "      <td>114.930000</td>\n",
              "      <td>119.739998</td>\n",
              "      <td>2489500.0</td>\n",
              "    </tr>\n",
              "    <tr>\n",
              "      <th>2016-01-08</th>\n",
              "      <td>WLTW</td>\n",
              "      <td>115.480003</td>\n",
              "      <td>116.620003</td>\n",
              "      <td>113.500000</td>\n",
              "      <td>117.440002</td>\n",
              "      <td>2006300.0</td>\n",
              "    </tr>\n",
              "    <tr>\n",
              "      <th>2016-01-11</th>\n",
              "      <td>WLTW</td>\n",
              "      <td>117.010002</td>\n",
              "      <td>114.970001</td>\n",
              "      <td>114.089996</td>\n",
              "      <td>117.330002</td>\n",
              "      <td>1408600.0</td>\n",
              "    </tr>\n",
              "  </tbody>\n",
              "</table>\n",
              "</div>"
            ],
            "text/plain": [
              "           symbol        open       close         low        high     volume\n",
              "date                                                                        \n",
              "2016-01-05   WLTW  123.430000  125.839996  122.309998  126.250000  2163600.0\n",
              "2016-01-06   WLTW  125.239998  119.980003  119.940002  125.540001  2386400.0\n",
              "2016-01-07   WLTW  116.379997  114.949997  114.930000  119.739998  2489500.0\n",
              "2016-01-08   WLTW  115.480003  116.620003  113.500000  117.440002  2006300.0\n",
              "2016-01-11   WLTW  117.010002  114.970001  114.089996  117.330002  1408600.0"
            ]
          },
          "metadata": {
            "tags": []
          },
          "execution_count": 19
        }
      ]
    },
    {
      "cell_type": "code",
      "metadata": {
        "id": "_d6n-0UJsC3T",
        "colab_type": "code",
        "colab": {
          "base_uri": "https://localhost:8080/",
          "height": 235
        },
        "outputId": "0db06511-181a-40a1-efb2-2438c5f278c6"
      },
      "source": [
        "dataset.tail()"
      ],
      "execution_count": 20,
      "outputs": [
        {
          "output_type": "execute_result",
          "data": {
            "text/html": [
              "<div>\n",
              "<style scoped>\n",
              "    .dataframe tbody tr th:only-of-type {\n",
              "        vertical-align: middle;\n",
              "    }\n",
              "\n",
              "    .dataframe tbody tr th {\n",
              "        vertical-align: top;\n",
              "    }\n",
              "\n",
              "    .dataframe thead th {\n",
              "        text-align: right;\n",
              "    }\n",
              "</style>\n",
              "<table border=\"1\" class=\"dataframe\">\n",
              "  <thead>\n",
              "    <tr style=\"text-align: right;\">\n",
              "      <th></th>\n",
              "      <th>symbol</th>\n",
              "      <th>open</th>\n",
              "      <th>close</th>\n",
              "      <th>low</th>\n",
              "      <th>high</th>\n",
              "      <th>volume</th>\n",
              "    </tr>\n",
              "    <tr>\n",
              "      <th>date</th>\n",
              "      <th></th>\n",
              "      <th></th>\n",
              "      <th></th>\n",
              "      <th></th>\n",
              "      <th></th>\n",
              "      <th></th>\n",
              "    </tr>\n",
              "  </thead>\n",
              "  <tbody>\n",
              "    <tr>\n",
              "      <th>2011-01-31</th>\n",
              "      <td>ROK</td>\n",
              "      <td>79.519997</td>\n",
              "      <td>81.010002</td>\n",
              "      <td>79.519997</td>\n",
              "      <td>81.260002</td>\n",
              "      <td>1558600.0</td>\n",
              "    </tr>\n",
              "    <tr>\n",
              "      <th>2011-01-31</th>\n",
              "      <td>ROP</td>\n",
              "      <td>78.120003</td>\n",
              "      <td>77.690002</td>\n",
              "      <td>77.260002</td>\n",
              "      <td>79.900002</td>\n",
              "      <td>1346200.0</td>\n",
              "    </tr>\n",
              "    <tr>\n",
              "      <th>2011-01-31</th>\n",
              "      <td>ROST</td>\n",
              "      <td>65.419998</td>\n",
              "      <td>65.199997</td>\n",
              "      <td>64.800003</td>\n",
              "      <td>65.699997</td>\n",
              "      <td>4788800.0</td>\n",
              "    </tr>\n",
              "    <tr>\n",
              "      <th>2011-01-31</th>\n",
              "      <td>RRC</td>\n",
              "      <td>47.740002</td>\n",
              "      <td>49.869999</td>\n",
              "      <td>47.740002</td>\n",
              "      <td>50.020000</td>\n",
              "      <td>2200700.0</td>\n",
              "    </tr>\n",
              "    <tr>\n",
              "      <th>2011-01-31</th>\n",
              "      <td>RSG</td>\n",
              "      <td>30.809999</td>\n",
              "      <td>30.840000</td>\n",
              "      <td>30.580000</td>\n",
              "      <td>31.049999</td>\n",
              "      <td>1449500.0</td>\n",
              "    </tr>\n",
              "  </tbody>\n",
              "</table>\n",
              "</div>"
            ],
            "text/plain": [
              "           symbol       open      close        low       high     volume\n",
              "date                                                                    \n",
              "2011-01-31    ROK  79.519997  81.010002  79.519997  81.260002  1558600.0\n",
              "2011-01-31    ROP  78.120003  77.690002  77.260002  79.900002  1346200.0\n",
              "2011-01-31   ROST  65.419998  65.199997  64.800003  65.699997  4788800.0\n",
              "2011-01-31    RRC  47.740002  49.869999  47.740002  50.020000  2200700.0\n",
              "2011-01-31    RSG  30.809999  30.840000  30.580000  31.049999  1449500.0"
            ]
          },
          "metadata": {
            "tags": []
          },
          "execution_count": 20
        }
      ]
    },
    {
      "cell_type": "code",
      "metadata": {
        "id": "PObDZyyZZO79",
        "colab_type": "code",
        "colab": {
          "base_uri": "https://localhost:8080/",
          "height": 238
        },
        "outputId": "55887ac7-98e8-4906-ff1d-b534ebbfd036"
      },
      "source": [
        "#Getting the information such as column name, Non-Null value, total count and the data type of the different columns \n",
        "dataset.info()"
      ],
      "execution_count": 21,
      "outputs": [
        {
          "output_type": "stream",
          "text": [
            "<class 'pandas.core.frame.DataFrame'>\n",
            "DatetimeIndex: 127690 entries, 2016-01-05 to 2011-01-31\n",
            "Data columns (total 6 columns):\n",
            " #   Column  Non-Null Count   Dtype  \n",
            "---  ------  --------------   -----  \n",
            " 0   symbol  127690 non-null  object \n",
            " 1   open    127690 non-null  float64\n",
            " 2   close   127690 non-null  float64\n",
            " 3   low     127690 non-null  float64\n",
            " 4   high    127690 non-null  float64\n",
            " 5   volume  127690 non-null  float64\n",
            "dtypes: float64(5), object(1)\n",
            "memory usage: 6.8+ MB\n"
          ],
          "name": "stdout"
        }
      ]
    },
    {
      "cell_type": "code",
      "metadata": {
        "id": "oY9Ow7HvaDFQ",
        "colab_type": "code",
        "colab": {
          "base_uri": "https://localhost:8080/",
          "height": 297
        },
        "outputId": "57a3fbf7-ee00-4463-89af-916d29608230"
      },
      "source": [
        "# Getting the information about the mean, standard diviation and min and max value.\n",
        "dataset.describe()"
      ],
      "execution_count": 22,
      "outputs": [
        {
          "output_type": "execute_result",
          "data": {
            "text/html": [
              "<div>\n",
              "<style scoped>\n",
              "    .dataframe tbody tr th:only-of-type {\n",
              "        vertical-align: middle;\n",
              "    }\n",
              "\n",
              "    .dataframe tbody tr th {\n",
              "        vertical-align: top;\n",
              "    }\n",
              "\n",
              "    .dataframe thead th {\n",
              "        text-align: right;\n",
              "    }\n",
              "</style>\n",
              "<table border=\"1\" class=\"dataframe\">\n",
              "  <thead>\n",
              "    <tr style=\"text-align: right;\">\n",
              "      <th></th>\n",
              "      <th>open</th>\n",
              "      <th>close</th>\n",
              "      <th>low</th>\n",
              "      <th>high</th>\n",
              "      <th>volume</th>\n",
              "    </tr>\n",
              "  </thead>\n",
              "  <tbody>\n",
              "    <tr>\n",
              "      <th>count</th>\n",
              "      <td>127690.000000</td>\n",
              "      <td>127690.000000</td>\n",
              "      <td>127690.000000</td>\n",
              "      <td>127690.000000</td>\n",
              "      <td>1.276900e+05</td>\n",
              "    </tr>\n",
              "    <tr>\n",
              "      <th>mean</th>\n",
              "      <td>49.083996</td>\n",
              "      <td>49.106783</td>\n",
              "      <td>48.509810</td>\n",
              "      <td>49.635983</td>\n",
              "      <td>7.146302e+06</td>\n",
              "    </tr>\n",
              "    <tr>\n",
              "      <th>std</th>\n",
              "      <td>49.153656</td>\n",
              "      <td>49.126233</td>\n",
              "      <td>48.599023</td>\n",
              "      <td>49.646150</td>\n",
              "      <td>1.689116e+07</td>\n",
              "    </tr>\n",
              "    <tr>\n",
              "      <th>min</th>\n",
              "      <td>0.850000</td>\n",
              "      <td>0.860000</td>\n",
              "      <td>0.830000</td>\n",
              "      <td>0.880000</td>\n",
              "      <td>0.000000e+00</td>\n",
              "    </tr>\n",
              "    <tr>\n",
              "      <th>25%</th>\n",
              "      <td>25.469999</td>\n",
              "      <td>25.480000</td>\n",
              "      <td>25.129999</td>\n",
              "      <td>25.780001</td>\n",
              "      <td>1.477525e+06</td>\n",
              "    </tr>\n",
              "    <tr>\n",
              "      <th>50%</th>\n",
              "      <td>39.480000</td>\n",
              "      <td>39.504999</td>\n",
              "      <td>39.000000</td>\n",
              "      <td>39.950001</td>\n",
              "      <td>3.132350e+06</td>\n",
              "    </tr>\n",
              "    <tr>\n",
              "      <th>75%</th>\n",
              "      <td>57.977500</td>\n",
              "      <td>58.020000</td>\n",
              "      <td>57.320000</td>\n",
              "      <td>58.607502</td>\n",
              "      <td>6.590400e+06</td>\n",
              "    </tr>\n",
              "    <tr>\n",
              "      <th>max</th>\n",
              "      <td>642.121105</td>\n",
              "      <td>639.631089</td>\n",
              "      <td>629.661103</td>\n",
              "      <td>642.961096</td>\n",
              "      <td>6.551166e+08</td>\n",
              "    </tr>\n",
              "  </tbody>\n",
              "</table>\n",
              "</div>"
            ],
            "text/plain": [
              "                open          close            low           high        volume\n",
              "count  127690.000000  127690.000000  127690.000000  127690.000000  1.276900e+05\n",
              "mean       49.083996      49.106783      48.509810      49.635983  7.146302e+06\n",
              "std        49.153656      49.126233      48.599023      49.646150  1.689116e+07\n",
              "min         0.850000       0.860000       0.830000       0.880000  0.000000e+00\n",
              "25%        25.469999      25.480000      25.129999      25.780001  1.477525e+06\n",
              "50%        39.480000      39.504999      39.000000      39.950001  3.132350e+06\n",
              "75%        57.977500      58.020000      57.320000      58.607502  6.590400e+06\n",
              "max       642.121105     639.631089     629.661103     642.961096  6.551166e+08"
            ]
          },
          "metadata": {
            "tags": []
          },
          "execution_count": 22
        }
      ]
    },
    {
      "cell_type": "code",
      "metadata": {
        "id": "z6jWwzaaaFOR",
        "colab_type": "code",
        "colab": {
          "base_uri": "https://localhost:8080/",
          "height": 441
        },
        "outputId": "7be1bb29-5d89-4e6f-e50e-3caa2c1aa768"
      },
      "source": [
        "#visualizing the close price trend \n",
        "plt.figure(figsize=(16,6))\n",
        "plt.title('close price history')\n",
        "plt.plot(dataset['close'])\n",
        "plt.xlabel('Date',fontsize=18)\n",
        "plt.ylabel('close price USD',fontsize=18)\n",
        "plt.show()"
      ],
      "execution_count": 23,
      "outputs": [
        {
          "output_type": "display_data",
          "data": {
            "image/png": "[encoded data removed]",
            "text/plain": [
              "<Figure size 1152x432 with 1 Axes>"
            ]
          },
          "metadata": {
            "tags": []
          }
        }
      ]
    },
    {
      "cell_type": "code",
      "metadata": {
        "id": "dcYTAggiaIB9",
        "colab_type": "code",
        "colab": {
          "base_uri": "https://localhost:8080/",
          "height": 34
        },
        "outputId": "544d7465-10b8-4f8f-e515-172b89d2a76a"
      },
      "source": [
        "# Filtering the required data \n",
        "data = dataset.filter(['close'])\n",
        "\n",
        "#converting  the dataframe into a array\n",
        "dataset = data.values\n",
        "\n",
        "# Calculating the number of the rows with 80% of the data \n",
        "training_data_len = math.ceil(len(dataset)* 0.8)\n",
        "\n",
        "training_data_len"
      ],
      "execution_count": 24,
      "outputs": [
        {
          "output_type": "execute_result",
          "data": {
            "text/plain": [
              "102152"
            ]
          },
          "metadata": {
            "tags": []
          },
          "execution_count": 24
        }
      ]
    },
    {
      "cell_type": "markdown",
      "metadata": {
        "id": "Y9hoH4NwNKOC",
        "colab_type": "text"
      },
      "source": [
        "Feature scaling in machine learning is one of the most critical steps during the pre-processing of data before creating a machine learning model. Scaling can make a difference between a weak machine learning model and a better one.\n",
        "\n",
        "**Why do we need scaling?**\n",
        "\n",
        "Machine learning algorithm just sees number — if there is a vast difference in the range say few ranging in thousands and few ranging in the tens, and it makes the underlying assumption that higher ranging numbers have superiority of some sort. So these more significant number starts playing a more decisive role while training the model.\n",
        "The machine learning algorithm works on numbers and does not know what that number represents. A weight of 10 grams and a price of 10 dollars represents completely two different things — which is a no brainer for humans, but for a model as a feature, it treats both as same."
      ]
    },
    {
      "cell_type": "code",
      "metadata": {
        "id": "_ndKRzV2asEZ",
        "colab_type": "code",
        "colab": {
          "base_uri": "https://localhost:8080/",
          "height": 136
        },
        "outputId": "581db974-8b5b-4cf5-b27c-c7073dffea29"
      },
      "source": [
        "#Scale the data \n",
        "scaler = MinMaxScaler(feature_range=(0,1))\n",
        "scaled_data = scaler.fit_transform(dataset)\n",
        "\n",
        "scaled_data"
      ],
      "execution_count": 25,
      "outputs": [
        {
          "output_type": "execute_result",
          "data": {
            "text/plain": [
              "array([[0.19565694],\n",
              "       [0.18648308],\n",
              "       [0.17860858],\n",
              "       ...,\n",
              "       [0.10072465],\n",
              "       [0.07672545],\n",
              "       [0.04693387]])"
            ]
          },
          "metadata": {
            "tags": []
          },
          "execution_count": 25
        }
      ]
    },
    {
      "cell_type": "markdown",
      "metadata": {
        "id": "n8arS2yGPsiL",
        "colab_type": "text"
      },
      "source": [
        "Spliting the dataset into Training and Testing Set is very important if we will not split the dataset then our model will train with the whole dataset and this cloud lead to the overfitting or underfitting. Therefore we split the 80% dataset for training and 20% for the testing of the data."
      ]
    },
    {
      "cell_type": "code",
      "metadata": {
        "id": "NEuSwHw6bBCV",
        "colab_type": "code",
        "colab": {
          "base_uri": "https://localhost:8080/",
          "height": 255
        },
        "outputId": "97be7868-a47f-49e1-d7bf-f9f5d7674420"
      },
      "source": [
        "#Create the training data set\n",
        "#Create the scaled trainig data set\n",
        "\n",
        "train_data = scaled_data[0:training_data_len,:]\n",
        "\n",
        "#Spilt the data set into x_train and y_train \n",
        "x_train = []\n",
        "x_train1 =[]\n",
        "y_train =[]\n",
        "y_train1=[]\n",
        "\n",
        "for i in range(60,len(train_data)):\n",
        "  x_train.append(train_data[i-60:i,0])\n",
        "  x_train1.append(train_data[i-60:i,0])\n",
        "  y_train.append(train_data[i,0])\n",
        "  y_train1.append(train_data[i,0])\n",
        "  if i <=60:\n",
        "    print(x_train)\n",
        "    print(y_train)\n",
        "    print()"
      ],
      "execution_count": 27,
      "outputs": [
        {
          "output_type": "stream",
          "text": [
            "[array([0.19565694, 0.18648308, 0.17860858, 0.18122298, 0.1786399 ,\n",
            "       0.17954789, 0.17532102, 0.17771624, 0.17482006, 0.17145422,\n",
            "       0.16976348, 0.17085933, 0.17391206, 0.17104719, 0.17242484,\n",
            "       0.17197084, 0.17489834, 0.17785714, 0.17790411, 0.17173601,\n",
            "       0.17719963, 0.17979837, 0.17715266, 0.17267532, 0.17187691,\n",
            "       0.16697687, 0.16636632, 0.16747783, 0.17206476, 0.17280055,\n",
            "       0.17336414, 0.17137595, 0.17561847, 0.17381813, 0.17330152,\n",
            "       0.17536798, 0.17516447, 0.17605681, 0.17948527, 0.18147346,\n",
            "       0.18181787, 0.18211532, 0.18173959, 0.18136387, 0.18101946,\n",
            "       0.18153608, 0.18748501, 0.18750065, 0.18761024, 0.1877981 ,\n",
            "       0.19282338, 0.18850258, 0.18878437, 0.18881569, 0.18554377,\n",
            "       0.18559075, 0.18451054, 0.18335207, 0.18454185, 0.18441662])]\n",
            "[0.18640480455432762]\n",
            "\n"
          ],
          "name": "stdout"
        }
      ]
    },
    {
      "cell_type": "markdown",
      "metadata": {
        "id": "Tw1VSsaRQyf-",
        "colab_type": "text"
      },
      "source": [
        "LSTM recieve the data in the form of the numpy array the array shoud be 3D Therefore we need to convert our dataframe into numppy array and then reshape the array using reshape() method of the  numpy."
      ]
    },
    {
      "cell_type": "code",
      "metadata": {
        "id": "ow-hoW03bFtE",
        "colab_type": "code",
        "colab": {}
      },
      "source": [
        "#Convert the x_train and y_train to numpy array\n",
        "x_train,y_train = np.array(x_train),np.array(y_train)"
      ],
      "execution_count": null,
      "outputs": []
    },
    {
      "cell_type": "code",
      "metadata": {
        "id": "d-xXFA0fbJIb",
        "colab_type": "code",
        "colab": {
          "base_uri": "https://localhost:8080/",
          "height": 34
        },
        "outputId": "78ba20e8-36c2-423d-a679-f865f795c9c8"
      },
      "source": [
        "#Reshape the data\n",
        "#LSTM model require 3d data\n",
        "x_train = np.reshape(x_train,(x_train.shape[0],x_train.shape[1],1))\n",
        "x_train.shape"
      ],
      "execution_count": null,
      "outputs": [
        {
          "output_type": "execute_result",
          "data": {
            "text/plain": [
              "(102092, 60, 1)"
            ]
          },
          "metadata": {
            "tags": []
          },
          "execution_count": 33
        }
      ]
    },
    {
      "cell_type": "code",
      "metadata": {
        "id": "mpBlB1LLbMuf",
        "colab_type": "code",
        "colab": {}
      },
      "source": [
        "#Build the LSTM model\n",
        "\n",
        "model =Sequential()\n",
        "\n",
        "model.add(LSTM(50,return_sequences=True,input_shape=(x_train.shape[1],1)))\n",
        "model.add(LSTM(50,return_sequences=False))\n",
        "model.add(Dense(25))\n",
        "model.add(Dense(1))"
      ],
      "execution_count": null,
      "outputs": []
    },
    {
      "cell_type": "code",
      "metadata": {
        "id": "mIpH9xsmbPHJ",
        "colab_type": "code",
        "colab": {}
      },
      "source": [
        "#Complie the model\n",
        "\n",
        "model.compile(optimizer='adam',loss='mean_squared_error')"
      ],
      "execution_count": null,
      "outputs": []
    },
    {
      "cell_type": "code",
      "metadata": {
        "id": "AAiLfKvgbSVf",
        "colab_type": "code",
        "colab": {
          "base_uri": "https://localhost:8080/",
          "height": 68
        },
        "outputId": "fbd1d381-a2b8-4cf5-fee5-6ca609501891"
      },
      "source": [
        "model.fit(x_train,y_train,batch_size=1,epochs=1)"
      ],
      "execution_count": null,
      "outputs": [
        {
          "output_type": "stream",
          "text": [
            "Epoch 1/1\n",
            "102092/102092 [==============================] - 3756s 37ms/step - loss: 0.0047\n"
          ],
          "name": "stdout"
        },
        {
          "output_type": "execute_result",
          "data": {
            "text/plain": [
              "<keras.callbacks.callbacks.History at 0x7f96c4053400>"
            ]
          },
          "metadata": {
            "tags": []
          },
          "execution_count": 36
        }
      ]
    },
    {
      "cell_type": "code",
      "metadata": {
        "id": "G8uf0T7CbWhJ",
        "colab_type": "code",
        "colab": {}
      },
      "source": [
        "#Create the testing dataset\n",
        "#Create a new array contained scaled values from index 1543 to 2003\n",
        "\n",
        "test_data = scaled_data[training_data_len-60:,:]\n",
        "#Create the data sets x_test and y_test\n",
        "x_test =[]\n",
        "x_test1=[]\n",
        "y_test = []\n",
        "y_test1=[]\n",
        "y_test = dataset[training_data_len:,:]\n",
        "y_test1 = dataset[training_data_len:,:]\n",
        "for i in range(60,len(test_data)):\n",
        "  x_test.append(test_data[i-60:i,0])\n",
        "  x_test1.append(test_data[i-60:i,0])\n"
      ],
      "execution_count": 28,
      "outputs": []
    },
    {
      "cell_type": "code",
      "metadata": {
        "id": "3y0GPFvwoZ59",
        "colab_type": "code",
        "colab": {}
      },
      "source": [
        "x_test = np.array(x_test)"
      ],
      "execution_count": null,
      "outputs": []
    },
    {
      "cell_type": "code",
      "metadata": {
        "id": "dWk-oiyJqFWw",
        "colab_type": "code",
        "colab": {}
      },
      "source": [
        "#Reshape the data \n",
        "x_test = np.reshape(x_test,(x_test.shape[0],x_test.shape[1],1))"
      ],
      "execution_count": null,
      "outputs": []
    },
    {
      "cell_type": "code",
      "metadata": {
        "id": "fOsSJ9Jiod6M",
        "colab_type": "code",
        "colab": {}
      },
      "source": [
        "# Get the models pridicted price values \n",
        "predictions = model.predict(x_test)\n",
        "predictions = scaler.inverse_transform(predictions)"
      ],
      "execution_count": null,
      "outputs": []
    },
    {
      "cell_type": "markdown",
      "metadata": {
        "id": "lPKfDEsfRyd0",
        "colab_type": "text"
      },
      "source": [
        "**Root Mean Square Error (RMSE)** is the standard deviation of the residuals (prediction errors). Residuals are a measure of how far from the regression line data points are; RMSE is a measure of how spread out these residuals are. In other words, it tells you how concentrated the data is around the line of best fit. Root mean square error is commonly used in climatology, forecasting, and regression analysis to verify experimental results.\n",
        "\n"
      ]
    },
    {
      "cell_type": "code",
      "metadata": {
        "id": "QPvOnXJ7ogrp",
        "colab_type": "code",
        "colab": {
          "base_uri": "https://localhost:8080/",
          "height": 34
        },
        "outputId": "3becb476-cf8d-4b6d-c923-0b23e338d08a"
      },
      "source": [
        "#Get the root mean squared error(RMSE)\n",
        "rmse = np.sqrt(np.mean(predictions - y_test)**2)\n",
        "rmse"
      ],
      "execution_count": null,
      "outputs": [
        {
          "output_type": "execute_result",
          "data": {
            "text/plain": [
              "6.592272232560857"
            ]
          },
          "metadata": {
            "tags": []
          },
          "execution_count": 43
        }
      ]
    },
    {
      "cell_type": "code",
      "metadata": {
        "id": "rrjeqVBGojKs",
        "colab_type": "code",
        "colab": {
          "base_uri": "https://localhost:8080/",
          "height": 620
        },
        "outputId": "f1f9a1ef-55f0-44ee-82a2-036df0b9cfff"
      },
      "source": [
        "#Plot the data \n",
        "train = data[:training_data_len]\n",
        "valid = data[training_data_len:]\n",
        "valid['predictions'] = predictions\n",
        "\n",
        "#Visualize the data \n",
        "\n",
        "plt.figure(figsize=(16,8))\n",
        "plt.title('Model')\n",
        "plt.xlabel('Date',fontsize=18)\n",
        "plt.ylabel('Close price USE',fontsize=18)\n",
        "plt.plot(train['close'])\n",
        "plt.plot(valid[['close','predictions']])\n",
        "plt.legend(['Train','Val','predictions'],loc='lower right')\n",
        "plt.show()"
      ],
      "execution_count": null,
      "outputs": [
        {
          "output_type": "stream",
          "text": [
            "/usr/local/lib/python3.6/dist-packages/ipykernel_launcher.py:4: SettingWithCopyWarning: \n",
            "A value is trying to be set on a copy of a slice from a DataFrame.\n",
            "Try using .loc[row_indexer,col_indexer] = value instead\n",
            "\n",
            "See the caveats in the documentation: https://pandas.pydata.org/pandas-docs/stable/user_guide/indexing.html#returning-a-view-versus-a-copy\n",
            "  after removing the cwd from sys.path.\n"
          ],
          "name": "stderr"
        },
        {
          "output_type": "display_data",
          "data": {
            "image/png": "[encoded data removed]",
            "text/plain": [
              "<Figure size 1152x576 with 1 Axes>"
            ]
          },
          "metadata": {
            "tags": [],
            "needs_background": "light"
          }
        }
      ]
    },
    {
      "cell_type": "markdown",
      "metadata": {
        "id": "xbbIYA_CtN3R",
        "colab_type": "text"
      },
      "source": [
        "Since I have taken the dataset very small in which the data of 2010 and 2011 is more and due the insufficieny of data the graph display the above results"
      ]
    },
    {
      "cell_type": "code",
      "metadata": {
        "id": "V0goBQARomYv",
        "colab_type": "code",
        "colab": {}
      },
      "source": [
        ""
      ],
      "execution_count": 28,
      "outputs": []
    },
    {
      "cell_type": "code",
      "metadata": {
        "id": "iUSuL9f0-v1_",
        "colab_type": "code",
        "colab": {}
      },
      "source": [
        "#Building the linear regression model \n",
        "from sklearn.linear_model import LinearRegression\n",
        "regressor=LinearRegression()\n",
        "regressor.fit(x_train1,y_train1)\n",
        "\n",
        "#Predicting the Test set results\n",
        "y_pred = regressor.predict(x_test1)"
      ],
      "execution_count": 29,
      "outputs": []
    },
    {
      "cell_type": "code",
      "metadata": {
        "id": "sxJozJet-wcM",
        "colab_type": "code",
        "colab": {
          "base_uri": "https://localhost:8080/",
          "height": 34
        },
        "outputId": "56fab606-7083-483d-b673-de6fe6487e15"
      },
      "source": [
        "regressor.score(x_train1,y_train1)"
      ],
      "execution_count": 34,
      "outputs": [
        {
          "output_type": "execute_result",
          "data": {
            "text/plain": [
              "0.16961636514024814"
            ]
          },
          "metadata": {
            "tags": []
          },
          "execution_count": 34
        }
      ]
    },
    {
      "cell_type": "code",
      "metadata": {
        "id": "s1sBHVC7vfTU",
        "colab_type": "code",
        "colab": {
          "base_uri": "https://localhost:8080/",
          "height": 34
        },
        "outputId": "c78e6211-c390-405b-c2f9-00739b286ec5"
      },
      "source": [
        "regressor.score(x_test1,y_test1)"
      ],
      "execution_count": 35,
      "outputs": [
        {
          "output_type": "execute_result",
          "data": {
            "text/plain": [
              "-0.9792294694959206"
            ]
          },
          "metadata": {
            "tags": []
          },
          "execution_count": 35
        }
      ]
    },
    {
      "cell_type": "markdown",
      "metadata": {
        "id": "KIAh82b2wICn",
        "colab_type": "text"
      },
      "source": [
        "Since the result is only 16% for training and -97% which is not acceptle. therefore choosing linear regession is not giving satisfacotory result."
      ]
    },
    {
      "cell_type": "code",
      "metadata": {
        "id": "rFyF6m2-wE2n",
        "colab_type": "code",
        "colab": {}
      },
      "source": [
        "#Buidling the Random Forest model\n",
        "\n",
        "# Fitting Random Forest Regression to the dataset\n",
        "from sklearn.ensemble import RandomForestRegressor\n",
        "regressor = RandomForestRegressor(n_estimators = 10, random_state = 0)\n",
        "regressor.fit(x_train, y_train)\n",
        "\n",
        "# Predicting a new result\n",
        "y_pred = regressor.predict(x_test)"
      ],
      "execution_count": 37,
      "outputs": []
    },
    {
      "cell_type": "code",
      "metadata": {
        "id": "FGVoJwymwGRl",
        "colab_type": "code",
        "colab": {
          "base_uri": "https://localhost:8080/",
          "height": 34
        },
        "outputId": "ad44ca7c-9ca1-4673-bfcd-e103534fa812"
      },
      "source": [
        "regressor.score(x_train,y_train)"
      ],
      "execution_count": 39,
      "outputs": [
        {
          "output_type": "execute_result",
          "data": {
            "text/plain": [
              "0.998696229521159"
            ]
          },
          "metadata": {
            "tags": []
          },
          "execution_count": 39
        }
      ]
    },
    {
      "cell_type": "code",
      "metadata": {
        "id": "Cjx7fV-JxbHE",
        "colab_type": "code",
        "colab": {
          "base_uri": "https://localhost:8080/",
          "height": 34
        },
        "outputId": "17e8a1b6-9396-403f-8477-3945bc103783"
      },
      "source": [
        "regressor.score(x_test,y_test)"
      ],
      "execution_count": 40,
      "outputs": [
        {
          "output_type": "execute_result",
          "data": {
            "text/plain": [
              "-0.9783411910164932"
            ]
          },
          "metadata": {
            "tags": []
          },
          "execution_count": 40
        }
      ]
    },
    {
      "cell_type": "code",
      "metadata": {
        "id": "zeKfOFSTxk9Y",
        "colab_type": "code",
        "colab": {
          "base_uri": "https://localhost:8080/",
          "height": 660
        },
        "outputId": "1f63e3ae-c1d2-4ecb-98fa-1dc6a8dad6ef"
      },
      "source": [
        "#Plot the data \n",
        "train = data[:training_data_len]\n",
        "valid = data[training_data_len:]\n",
        "valid['predictions'] = y_pred\n",
        "\n",
        "#Visualize the data \n",
        "\n",
        "plt.figure(figsize=(16,8))\n",
        "plt.title('Model')\n",
        "plt.xlabel('Date',fontsize=18)\n",
        "plt.ylabel('Close price USE',fontsize=18)\n",
        "plt.plot(train['close'])\n",
        "plt.plot(valid[['close','predictions']])\n",
        "plt.legend(['Train','Val','predictions'],loc='lower right')\n",
        "plt.show()"
      ],
      "execution_count": 41,
      "outputs": [
        {
          "output_type": "stream",
          "text": [
            "/usr/local/lib/python3.6/dist-packages/ipykernel_launcher.py:4: SettingWithCopyWarning: \n",
            "A value is trying to be set on a copy of a slice from a DataFrame.\n",
            "Try using .loc[row_indexer,col_indexer] = value instead\n",
            "\n",
            "See the caveats in the documentation: https://pandas.pydata.org/pandas-docs/stable/user_guide/indexing.html#returning-a-view-versus-a-copy\n",
            "  after removing the cwd from sys.path.\n"
          ],
          "name": "stderr"
        },
        {
          "output_type": "display_data",
          "data": {
            "image/png": "[encoded data removed]",
            "text/plain": [
              "<Figure size 1152x576 with 1 Axes>"
            ]
          },
          "metadata": {
            "tags": []
          }
        }
      ]
    },
    {
      "cell_type": "code",
      "metadata": {
        "id": "Vy5VNGyexsXy",
        "colab_type": "code",
        "colab": {}
      },
      "source": [
        ""
      ],
      "execution_count": null,
      "outputs": []
    },
    {
      "cell_type": "markdown",
      "metadata": {
        "id": "LabpTKtVxuhH",
        "colab_type": "text"
      },
      "source": [
        "**Using the Random Forest is not also providing the better result.**\n",
        "\n",
        "**Commparing all the model LSTM perform the best out of all the 3 model.**"
      ]
    }
  ]
}